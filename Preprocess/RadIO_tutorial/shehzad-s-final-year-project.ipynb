{
 "cells": [
  {
   "cell_type": "code",
   "execution_count": null,
   "id": "0a4a9038",
   "metadata": {
    "execution": {
     "iopub.execute_input": "2024-03-10T12:53:56.716861Z",
     "iopub.status.busy": "2024-03-10T12:53:56.716059Z",
     "iopub.status.idle": "2024-03-10T12:53:58.590920Z",
     "shell.execute_reply": "2024-03-10T12:53:58.589836Z"
    },
    "executionInfo": {
     "elapsed": 2397,
     "status": "ok",
     "timestamp": 1701347440477,
     "user": {
      "displayName": "Mohit",
      "userId": "02249881747218603498"
     },
     "user_tz": -330
    },
    "id": "NASu--FXNV7I",
    "papermill": {
     "duration": 1.891444,
     "end_time": "2024-03-10T12:53:58.593498",
     "exception": false,
     "start_time": "2024-03-10T12:53:56.702054",
     "status": "completed"
    },
    "tags": []
   },
   "outputs": [],
   "source": [
    "import os\n",
    "import cv2\n",
    "import copy\n",
    "import numpy as np\n",
    "import pandas as pd\n",
    "from glob import glob\n",
    "from tqdm import tqdm\n",
    "\n",
    "import SimpleITK as stk\n",
    "import matplotlib.pyplot as plt\n",
    "\n",
    "from sklearn.cluster import KMeans\n",
    "from skimage import measure"
   ]
  },
  {
   "cell_type": "code",
   "execution_count": null,
   "id": "516fcc88",
   "metadata": {
    "execution": {
     "iopub.execute_input": "2024-03-10T12:53:58.620666Z",
     "iopub.status.busy": "2024-03-10T12:53:58.620340Z",
     "iopub.status.idle": "2024-03-10T12:53:58.624642Z",
     "shell.execute_reply": "2024-03-10T12:53:58.623696Z"
    },
    "executionInfo": {
     "elapsed": 14,
     "status": "ok",
     "timestamp": 1701347473464,
     "user": {
      "displayName": "Mohit",
      "userId": "02249881747218603498"
     },
     "user_tz": -330
    },
    "id": "zKAb5VRtNaAH",
    "papermill": {
     "duration": 0.020212,
     "end_time": "2024-03-10T12:53:58.626789",
     "exception": false,
     "start_time": "2024-03-10T12:53:58.606577",
     "status": "completed"
    },
    "tags": []
   },
   "outputs": [],
   "source": [
    "root = os.path.normpath('C:/Users/huixi/OneDrive - Durham University/Final Project/Dataset/LUNA-16/')\n",
    "target_root = os.path.normpath('C:/Users/huixi/OneDrive - Durham University/Final Project/Main_Code_Paper/0-Code_Data/Data')"
   ]
  },
  {
   "cell_type": "code",
   "execution_count": null,
   "id": "990c4a20",
   "metadata": {
    "execution": {
     "iopub.execute_input": "2024-03-10T12:53:58.653773Z",
     "iopub.status.busy": "2024-03-10T12:53:58.653170Z",
     "iopub.status.idle": "2024-03-10T12:53:58.808847Z",
     "shell.execute_reply": "2024-03-10T12:53:58.807748Z"
    },
    "executionInfo": {
     "elapsed": 428,
     "status": "ok",
     "timestamp": 1701347548776,
     "user": {
      "displayName": "Mohit",
      "userId": "02249881747218603498"
     },
     "user_tz": -330
    },
    "id": "2BHgANqANjEE",
    "outputId": "85c9d42c-86d4-4e2d-e671-a5c85b8b246c",
    "papermill": {
     "duration": 0.171948,
     "end_time": "2024-03-10T12:53:58.811402",
     "exception": false,
     "start_time": "2024-03-10T12:53:58.639454",
     "status": "completed"
    },
    "tags": []
   },
   "outputs": [],
   "source": [
    "# Base path for the LUNA16 dataset\n",
    "base_path = root\n",
    "\n",
    "file_list = glob(f\"{base_path}/subset/*.mhd\")\n",
    "\n",
    "# Print out the count of files for each subset\n",
    "print(f\"Files in subset Count:\", len(file_list))\n",
    "\n",
    "# Read the annotations file if it's located directly under the luna16 folder\n",
    "annotations_df = pd.read_csv(f\"{base_path}/annotations.csv\")\n",
    "print(\"Annotations DF Count:\", len(annotations_df))\n",
    "annotations_df.head()"
   ]
  },
  {
   "cell_type": "code",
   "execution_count": null,
   "id": "21301866",
   "metadata": {
    "execution": {
     "iopub.execute_input": "2024-03-10T12:53:58.840436Z",
     "iopub.status.busy": "2024-03-10T12:53:58.839813Z",
     "iopub.status.idle": "2024-03-10T12:53:59.193813Z",
     "shell.execute_reply": "2024-03-10T12:53:59.192820Z"
    },
    "executionInfo": {
     "elapsed": 1180,
     "status": "ok",
     "timestamp": 1701347570745,
     "user": {
      "displayName": "Mohit",
      "userId": "02249881747218603498"
     },
     "user_tz": -330
    },
    "id": "cukw_lPzNtAG",
    "outputId": "772c7024-53b0-4c34-ec4b-27377867f6a9",
    "papermill": {
     "duration": 0.370312,
     "end_time": "2024-03-10T12:53:59.196232",
     "exception": false,
     "start_time": "2024-03-10T12:53:58.825920",
     "status": "completed"
    },
    "tags": []
   },
   "outputs": [],
   "source": [
    "d = annotations_df['diameter_mm'].values\n",
    "fig = plt.hist(d, bins=80)"
   ]
  },
  {
   "cell_type": "code",
   "execution_count": null,
   "id": "4efcb868",
   "metadata": {
    "execution": {
     "iopub.execute_input": "2024-03-10T12:53:59.225162Z",
     "iopub.status.busy": "2024-03-10T12:53:59.224573Z",
     "iopub.status.idle": "2024-03-10T12:53:59.229479Z",
     "shell.execute_reply": "2024-03-10T12:53:59.228539Z"
    },
    "executionInfo": {
     "elapsed": 415,
     "status": "ok",
     "timestamp": 1701347585595,
     "user": {
      "displayName": "Mohit",
      "userId": "02249881747218603498"
     },
     "user_tz": -330
    },
    "id": "nQWuIPzgN6rK",
    "papermill": {
     "duration": 0.021418,
     "end_time": "2024-03-10T12:53:59.231620",
     "exception": false,
     "start_time": "2024-03-10T12:53:59.210202",
     "status": "completed"
    },
    "tags": []
   },
   "outputs": [],
   "source": [
    "def get_filename(file_list, file):\n",
    "    for f in file_list:\n",
    "        if file in f:\n",
    "            return f"
   ]
  },
  {
   "cell_type": "code",
   "execution_count": null,
   "id": "5b8d963c",
   "metadata": {
    "execution": {
     "iopub.execute_input": "2024-03-10T12:53:59.259879Z",
     "iopub.status.busy": "2024-03-10T12:53:59.259265Z",
     "iopub.status.idle": "2024-03-10T12:53:59.290474Z",
     "shell.execute_reply": "2024-03-10T12:53:59.289296Z"
    },
    "executionInfo": {
     "elapsed": 422,
     "status": "ok",
     "timestamp": 1701347594071,
     "user": {
      "displayName": "Mohit",
      "userId": "02249881747218603498"
     },
     "user_tz": -330
    },
    "id": "LSYDuZxhN-jS",
    "outputId": "997d12f3-6466-40ae-d630-f9495771a116",
    "papermill": {
     "duration": 0.047641,
     "end_time": "2024-03-10T12:53:59.292827",
     "exception": false,
     "start_time": "2024-03-10T12:53:59.245186",
     "status": "completed"
    },
    "tags": []
   },
   "outputs": [],
   "source": [
    "annotations_df[\"filename\"] = annotations_df[\"seriesuid\"].map(lambda file: get_filename(file_list, file))\n",
    "annotations_df = annotations_df.dropna()\n",
    "annotations_df = annotations_df[annotations_df['diameter_mm']>=3.0]\n",
    "print(len(annotations_df))"
   ]
  },
  {
   "cell_type": "code",
   "execution_count": null,
   "id": "aac5fa5c",
   "metadata": {
    "execution": {
     "iopub.execute_input": "2024-03-10T12:53:59.321761Z",
     "iopub.status.busy": "2024-03-10T12:53:59.321231Z",
     "iopub.status.idle": "2024-03-10T12:53:59.333878Z",
     "shell.execute_reply": "2024-03-10T12:53:59.332941Z"
    },
    "executionInfo": {
     "elapsed": 497,
     "status": "ok",
     "timestamp": 1701347604357,
     "user": {
      "displayName": "Mohit",
      "userId": "02249881747218603498"
     },
     "user_tz": -330
    },
    "id": "OIPIc5bLOAld",
    "outputId": "1d7400d1-1b48-48f1-911c-e95b57ab9a56",
    "papermill": {
     "duration": 0.029439,
     "end_time": "2024-03-10T12:53:59.336244",
     "exception": false,
     "start_time": "2024-03-10T12:53:59.306805",
     "status": "completed"
    },
    "tags": []
   },
   "outputs": [],
   "source": [
    "annotations_df.head()"
   ]
  },
  {
   "cell_type": "code",
   "execution_count": null,
   "id": "7849f390",
   "metadata": {
    "execution": {
     "iopub.execute_input": "2024-03-10T12:53:59.365278Z",
     "iopub.status.busy": "2024-03-10T12:53:59.364755Z",
     "iopub.status.idle": "2024-03-10T12:53:59.370314Z",
     "shell.execute_reply": "2024-03-10T12:53:59.369385Z"
    },
    "executionInfo": {
     "elapsed": 7,
     "status": "ok",
     "timestamp": 1701347612494,
     "user": {
      "displayName": "Mohit",
      "userId": "02249881747218603498"
     },
     "user_tz": -330
    },
    "id": "f-KEWJnNODDi",
    "papermill": {
     "duration": 0.022272,
     "end_time": "2024-03-10T12:53:59.372406",
     "exception": false,
     "start_time": "2024-03-10T12:53:59.350134",
     "status": "completed"
    },
    "tags": []
   },
   "outputs": [],
   "source": [
    "def load_mhd(file):\n",
    "    mhdimage = stk.ReadImage(file)\n",
    "    ct_scan = stk.GetArrayFromImage(mhdimage)\n",
    "    origin = np.array(list(mhdimage.GetOrigin()))\n",
    "    space = np.array(list(mhdimage.GetSpacing()))\n",
    "    return ct_scan, origin, space"
   ]
  },
  {
   "cell_type": "code",
   "execution_count": null,
   "id": "8e2deae2",
   "metadata": {
    "execution": {
     "iopub.execute_input": "2024-03-10T12:53:59.401239Z",
     "iopub.status.busy": "2024-03-10T12:53:59.400529Z",
     "iopub.status.idle": "2024-03-10T12:53:59.406258Z",
     "shell.execute_reply": "2024-03-10T12:53:59.405341Z"
    },
    "executionInfo": {
     "elapsed": 4,
     "status": "ok",
     "timestamp": 1701347622965,
     "user": {
      "displayName": "Mohit",
      "userId": "02249881747218603498"
     },
     "user_tz": -330
    },
    "id": "8lt_OOkbOFLP",
    "papermill": {
     "duration": 0.022252,
     "end_time": "2024-03-10T12:53:59.408363",
     "exception": false,
     "start_time": "2024-03-10T12:53:59.386111",
     "status": "completed"
    },
    "tags": []
   },
   "outputs": [],
   "source": [
    "def make_mask(img, center, diam):\n",
    "    mask = np.zeros_like(img, dtype=np.uint8)\n",
    "    mask = cv2.circle(mask, (abs(int(center[0])),abs(int(center[1]))),int(abs(diam//2)), 255, -1)\n",
    "    return mask"
   ]
  },
  {
   "cell_type": "code",
   "execution_count": null,
   "id": "f06213b6",
   "metadata": {
    "execution": {
     "iopub.execute_input": "2024-03-10T12:53:59.437090Z",
     "iopub.status.busy": "2024-03-10T12:53:59.436523Z",
     "iopub.status.idle": "2024-03-10T12:53:59.460173Z",
     "shell.execute_reply": "2024-03-10T12:53:59.459202Z"
    },
    "papermill": {
     "duration": 0.040434,
     "end_time": "2024-03-10T12:53:59.462342",
     "exception": false,
     "start_time": "2024-03-10T12:53:59.421908",
     "status": "completed"
    },
    "tags": []
   },
   "outputs": [],
   "source": [
    "annotations_df_new = pd.read_csv(f\"{base_path}/annotations.csv\")\n",
    "annotations_df_new"
   ]
  },
  {
   "cell_type": "code",
   "execution_count": null,
   "id": "63f61fdc",
   "metadata": {
    "execution": {
     "iopub.execute_input": "2024-03-10T12:53:59.491695Z",
     "iopub.status.busy": "2024-03-10T12:53:59.491084Z",
     "iopub.status.idle": "2024-03-10T12:53:59.495135Z",
     "shell.execute_reply": "2024-03-10T12:53:59.494207Z"
    },
    "executionInfo": {
     "elapsed": 436,
     "status": "ok",
     "timestamp": 1701347629979,
     "user": {
      "displayName": "Mohit",
      "userId": "02249881747218603498"
     },
     "user_tz": -330
    },
    "id": "VdUFFrXAOHq6",
    "papermill": {
     "duration": 0.020967,
     "end_time": "2024-03-10T12:53:59.497308",
     "exception": false,
     "start_time": "2024-03-10T12:53:59.476341",
     "status": "completed"
    },
    "tags": []
   },
   "outputs": [],
   "source": [
    "n_neighbour = 4"
   ]
  },
  {
   "cell_type": "code",
   "execution_count": null,
   "id": "6dd94c49",
   "metadata": {
    "execution": {
     "iopub.execute_input": "2024-03-10T12:53:59.526594Z",
     "iopub.status.busy": "2024-03-10T12:53:59.526096Z",
     "iopub.status.idle": "2024-03-10T12:53:59.536006Z",
     "shell.execute_reply": "2024-03-10T12:53:59.535068Z"
    },
    "papermill": {
     "duration": 0.026944,
     "end_time": "2024-03-10T12:53:59.538175",
     "exception": false,
     "start_time": "2024-03-10T12:53:59.511231",
     "status": "completed"
    },
    "tags": []
   },
   "outputs": [],
   "source": [
    "# Define the directories for saving output\n",
    "nodule_mask_dir = os.path.join(target_root, \"masks/\")\n",
    "lungs_roi_dir = os.path.join(target_root, \"imgs/\")\n",
    "\n",
    "# Create the directories if they do not exist\n",
    "os.makedirs(nodule_mask_dir, exist_ok=True)\n",
    "os.makedirs(lungs_roi_dir, exist_ok=True)"
   ]
  },
  {
   "cell_type": "code",
   "execution_count": null,
   "id": "e31857ae",
   "metadata": {
    "execution": {
     "iopub.execute_input": "2024-03-10T12:53:59.567316Z",
     "iopub.status.busy": "2024-03-10T12:53:59.567053Z",
     "iopub.status.idle": "2024-03-10T12:55:48.783731Z",
     "shell.execute_reply": "2024-03-10T12:55:48.782547Z"
    },
    "executionInfo": {
     "elapsed": 88713,
     "status": "ok",
     "timestamp": 1701348282102,
     "user": {
      "displayName": "Mohit",
      "userId": "02249881747218603498"
     },
     "user_tz": -330
    },
    "id": "XZvW3LSAOJbp",
    "outputId": "82783c03-85c4-4f6a-af0c-b006665ad734",
    "papermill": {
     "duration": 109.23435,
     "end_time": "2024-03-10T12:55:48.786328",
     "exception": false,
     "start_time": "2024-03-10T12:53:59.551978",
     "status": "completed"
    },
    "tags": []
   },
   "outputs": [],
   "source": [
    "clahe = cv2.createCLAHE(clipLimit=2.0, tileGridSize=(8,8))  # CLAHE(Contrast Limited Adaptive Histogram Equalization) filter for enhancing the contrast of an image\n",
    "\n",
    "# Iterating over all the files in the subset\n",
    "for i,file in tqdm(enumerate(np.unique(annotations_df['filename'].values))):\n",
    "    annotations = annotations_df[annotations_df[\"filename\"]==file]\n",
    "    ct, origin, space = load_mhd(file)      # Loading the CT scan\n",
    "    num_z, height, width = ct.shape\n",
    "    ct_norm = cv2.normalize(ct, None, 0, 255, cv2.NORM_MINMAX)   # Normalizing the CT scan\n",
    "    for idx, row in annotations.iterrows():\n",
    "        node_x = int(row[\"coordX\"])     # X coordinate of the nodule\n",
    "        node_y = int(row[\"coordY\"])     # Y coordinate of the nodule\n",
    "        node_z = int(row[\"coordZ\"])     # Z coordinate of the nodule\n",
    "        diam = int(row[\"diameter_mm\"])  # Diameter of the nodule\n",
    "\n",
    "        center = np.array([node_x, node_y, node_z])   # nodule center (x,y,z)\n",
    "        v_center = np.rint((center-origin)/space)   # nodule center in voxel space (still x,y,z ordering)\n",
    "        v_diam = int(diam/space[0])+5       # Diameter of the nodule in voxel space\n",
    "\n",
    "        img_norm_neighbours = []\n",
    "        img_norm_improved_neighbours = []\n",
    "        mask_neighbours = []\n",
    "        img_norm = None\n",
    "        img_norm_improved = None\n",
    "        mask = None\n",
    "\n",
    "        if 18<v_diam<22:              # If nodule diameter is of medium size the take two neighbour slides into consideration\n",
    "            n_neighbour = 2\n",
    "\n",
    "        min_i = max(0,(int(v_center[2])-n_neighbour))\n",
    "        max_i = min((int(v_center[2])+n_neighbour),(num_z-1))\n",
    "        n = max_i-min_i\n",
    "\n",
    "        img_norm = ct_norm[int(v_center[2]),:,:]    # a slice of the CT scan containing the nodule\n",
    "        img_norm = cv2.resize(img_norm, (512,512))  # Resizing the CT scan to 512x512\n",
    "        img_norm_improved = clahe.apply(img_norm.astype(np.uint8))  # Applying CLAHE filter to the image\n",
    "        mask = make_mask(img_norm, v_center, v_diam)    # Creating a mask of the nodule\n",
    "\n",
    "        if v_diam>18:      # If the nodule is too big, we will also take neighboring slices\n",
    "            for i in range(min_i, max_i+1):\n",
    "                if i==int(v_center[2]):\n",
    "                    continue\n",
    "\n",
    "                im_n = ct_norm[i,:,:]\n",
    "                im_n = cv2.resize(im_n, (512,512))\n",
    "                im_n_improved = clahe.apply(im_n.astype(np.uint8))\n",
    "                dia = int(2*abs(v_center[2]-i))    # Decrease mask diameter because nodule diameter decrease as we move away from its center\n",
    "                msk = make_mask(im_n, v_center, v_diam-dia)\n",
    "                img_norm_neighbours.append(im_n)\n",
    "                img_norm_improved_neighbours.append(im_n_improved)\n",
    "                mask_neighbours.append(msk)\n",
    "            assert len(img_norm_neighbours)==len(img_norm_improved_neighbours)==len(mask_neighbours)==n\n",
    "\n",
    "        # Calculating the threshold value for extracting the nodule mask using binary thresholding\n",
    "        mask = cv2.bitwise_and(img_norm, img_norm, mask=cv2.dilate(mask,kernel=np.ones((5,5))))\n",
    "        pts = mask[mask>0]\n",
    "        kmeans2 = KMeans(n_clusters=2).fit(np.reshape(pts,(len(pts),1)))\n",
    "        centroids2 = sorted(kmeans2.cluster_centers_.flatten())\n",
    "        threshold2 = np.mean(centroids2)\n",
    "\n",
    "        _, mask = cv2.threshold(mask, threshold2, 255, cv2.THRESH_BINARY)\n",
    "\n",
    "\n",
    "        if v_diam>18:\n",
    "            for i in range(n):\n",
    "                mask_neighbours[i] = cv2.bitwise_and(img_norm_neighbours[i], img_norm_neighbours[i], mask=cv2.dilate(mask_neighbours[i],kernel=np.ones((5,5))))\n",
    "                _, mask_neighbours[i] = cv2.threshold(mask_neighbours[i], threshold2, 255, cv2.THRESH_BINARY)\n",
    "\n",
    "\n",
    "        # Calculating the threshold value to segment the lungs from CT scan slices using binary thresholding\n",
    "        centeral_area = img_norm[100:400, 100:400]\n",
    "        kmeans = KMeans(n_clusters=2).fit(np.reshape(centeral_area, [np.prod(centeral_area.shape), 1]))\n",
    "        centroids = sorted(kmeans.cluster_centers_.flatten())\n",
    "        threshold = np.mean(centroids)\n",
    "\n",
    "        # Steps to segment the lungs from CT scan slices\n",
    "        ret, lung_roi = cv2.threshold(img_norm, threshold, 255, cv2.THRESH_BINARY_INV)\n",
    "        lung_roi = cv2.erode(lung_roi, kernel=np.ones([4,4]))\n",
    "        lung_roi = cv2.dilate(lung_roi, kernel=np.ones([13,13]))\n",
    "        lung_roi = cv2.erode(lung_roi, kernel=np.ones([8,8]))\n",
    "\n",
    "        labels = measure.label(lung_roi)        # Labelling different regions in the image\n",
    "        regions = measure.regionprops(labels)   # Extracting the properties of the regions\n",
    "        good_labels = []\n",
    "        for prop in regions:        # Filtering the regions that are not too close to the edges\n",
    "            B = prop.bbox           # Regions that are too close to the edges are outside regions of lungs\n",
    "            if B[2]-B[0] < 475 and B[3]-B[1] < 475 and B[0] > 40 and B[2] < 472:\n",
    "                good_labels.append(prop.label)\n",
    "        lung_roi_mask = np.zeros_like(labels)\n",
    "        for N in good_labels:\n",
    "            lung_roi_mask = lung_roi_mask + np.where(labels == N, 1, 0)\n",
    "\n",
    "        # Steps to get proper segmentation of the lungs without noise and holes\n",
    "        contours, hirearchy = cv2.findContours(lung_roi_mask,cv2.RETR_CCOMP,cv2.CHAIN_APPROX_SIMPLE)\n",
    "        external_contours = np.zeros(lung_roi_mask.shape)\n",
    "        for i in range(len(contours)):\n",
    "            if hirearchy[0][i][3] == -1:  #External Contours\n",
    "                area = cv2.contourArea(contours[i])\n",
    "                if area>518.0:\n",
    "                    cv2.drawContours(external_contours,contours,i,(1,1,1),-1)\n",
    "        external_contours = cv2.dilate(external_contours, kernel=np.ones([4,4]))\n",
    "\n",
    "        external_contours = cv2.bitwise_not(external_contours.astype(np.uint8))\n",
    "        external_contours = cv2.erode(external_contours, kernel=np.ones((7,7)))\n",
    "        external_contours = cv2.bitwise_not(external_contours)\n",
    "        external_contours = cv2.dilate(external_contours, kernel=np.ones((12,12)))\n",
    "        external_contours = cv2.erode(external_contours, kernel=np.ones((12,12)))\n",
    "\n",
    "        img_norm_improved = img_norm_improved.astype(np.uint8)\n",
    "        external_contours = external_contours.astype(np.uint8)      # Final segmentated lungs mask\n",
    "        extracted_lungs = cv2.bitwise_and(img_norm_improved, img_norm_improved, mask=external_contours)\n",
    "\n",
    "        mask = mask.astype(np.uint8)\n",
    "        np.save(os.path.join(nodule_mask_dir, f\"masks_{i}_{idx}.npy\"), mask)\n",
    "        np.save(os.path.join(lungs_roi_dir, f\"lungs_{i}_{idx}.npy\"), extracted_lungs)\n",
    "\n",
    "        extracted_lungs_neighbours = [None]*n\n",
    "\n",
    "        if v_diam>18:\n",
    "            for i in range(n):\n",
    "                img_norm_improved_neighbours[i] = img_norm_improved_neighbours[i].astype(np.uint8)\n",
    "                extracted_lungs_neighbours[i] = cv2.bitwise_and(img_norm_improved_neighbours[i], img_norm_improved_neighbours[i], mask=external_contours)\n",
    "                mask_neighbours[i] = mask_neighbours[i].astype(np.uint8)\n",
    "                np.save(os.path.join(nodule_mask_dir, f\"masks_{i}_{idx}_{i}.npy\"), mask_neighbours[i])\n",
    "                np.save(os.path.join(lungs_roi_dir, f\"lungs_{i}_{idx}_{i}.npy\"), extracted_lungs_neighbours[i])"
   ]
  },
  {
   "cell_type": "code",
   "execution_count": null,
   "id": "f1a69f0f",
   "metadata": {
    "execution": {
     "iopub.execute_input": "2024-03-10T12:55:48.825403Z",
     "iopub.status.busy": "2024-03-10T12:55:48.825088Z",
     "iopub.status.idle": "2024-03-10T12:55:48.829274Z",
     "shell.execute_reply": "2024-03-10T12:55:48.828425Z"
    },
    "papermill": {
     "duration": 0.026148,
     "end_time": "2024-03-10T12:55:48.831420",
     "exception": false,
     "start_time": "2024-03-10T12:55:48.805272",
     "status": "completed"
    },
    "tags": []
   },
   "outputs": [],
   "source": [
    "# Modelisation"
   ]
  },
  {
   "cell_type": "markdown",
   "id": "a9870779",
   "metadata": {
    "papermill": {
     "duration": 0.018668,
     "end_time": "2024-03-10T12:55:48.868696",
     "exception": false,
     "start_time": "2024-03-10T12:55:48.850028",
     "status": "completed"
    },
    "tags": []
   },
   "source": [
    "After preparing my data, segmenting the lung areas, and saving the nodule masks along with the lung regions of interest (ROI), the next step is to build and train a deep learning model for segmentation or classification (cancer detection) based on our objectives. \n",
    "\n",
    "Here is how to proceed with modeling, training, and evaluating my model:"
   ]
  },
  {
   "cell_type": "markdown",
   "id": "e4506cc7",
   "metadata": {
    "papermill": {
     "duration": 0.018553,
     "end_time": "2024-03-10T12:55:48.906015",
     "exception": false,
     "start_time": "2024-03-10T12:55:48.887462",
     "status": "completed"
    },
    "tags": []
   },
   "source": [
    "#  Data preparation."
   ]
  },
  {
   "cell_type": "markdown",
   "id": "c80a08a4",
   "metadata": {
    "papermill": {
     "duration": 0.018534,
     "end_time": "2024-03-10T12:55:48.943283",
     "exception": false,
     "start_time": "2024-03-10T12:55:48.924749",
     "status": "completed"
    },
    "tags": []
   },
   "source": [
    "##### Step 1: Load the images and masks.\n"
   ]
  },
  {
   "cell_type": "markdown",
   "id": "59e124a9",
   "metadata": {
    "papermill": {
     "duration": 0.018491,
     "end_time": "2024-03-10T12:55:48.980492",
     "exception": false,
     "start_time": "2024-03-10T12:55:48.962001",
     "status": "completed"
    },
    "tags": []
   },
   "source": [
    "The lung-extracted images (lungs_roi) and nodule masks (nodule_mask) are stored in .npy files. Now, we need to load them and associate them with the corresponding labels."
   ]
  },
  {
   "cell_type": "markdown",
   "id": "5c18bc83",
   "metadata": {
    "papermill": {
     "duration": 0.018544,
     "end_time": "2024-03-10T12:55:49.017715",
     "exception": false,
     "start_time": "2024-03-10T12:55:48.999171",
     "status": "completed"
    },
    "tags": []
   },
   "source": [
    "Visualizing both lung region images (ROI - Region of Interest) and nodule masks for multiple cases helps you understand where nodules are located and potentially whether these nodules can be indicative of cancer.\n",
    "\n",
    "- The reason we use masks in this context is to specifically identify regions of interest (nodules) in lung images.\n",
    "- A mask indicates the exact location of the nodule in the image, which is crucial for cancer analysis and detection. Deep learning models can use these masks to learn how to distinguish potential nodules from the rest of the lung tissue."
   ]
  },
  {
   "cell_type": "code",
   "execution_count": null,
   "id": "3647dafb",
   "metadata": {
    "execution": {
     "iopub.execute_input": "2024-03-10T12:55:49.057017Z",
     "iopub.status.busy": "2024-03-10T12:55:49.056411Z",
     "iopub.status.idle": "2024-03-10T12:55:49.280572Z",
     "shell.execute_reply": "2024-03-10T12:55:49.279639Z"
    },
    "papermill": {
     "duration": 0.246658,
     "end_time": "2024-03-10T12:55:49.283479",
     "exception": false,
     "start_time": "2024-03-10T12:55:49.036821",
     "status": "completed"
    },
    "tags": []
   },
   "outputs": [],
   "source": [
    "import numpy as np\n",
    "import matplotlib.pyplot as plt\n",
    "\n",
    "# Exemple de chemin vers une image et son masque\n",
    "image_path = 'C:/Users/huixi/OneDrive - Durham University/Final Project/Main_Code_Paper/0-Code_Data/Data/imgs/lungs_5_0.npy'  # Mettez à jour avec votre chemin réel\n",
    "mask_path = 'C:/Users/huixi/OneDrive - Durham University/Final Project/Main_Code_Paper/0-Code_Data/Data/masks/masks_5_0.npy'  # Mettez à jour avec votre chemin réel\n",
    "\n",
    "# Chargement de l'image et du masque\n",
    "image = np.load(image_path)\n",
    "mask = np.load(mask_path)\n",
    "\n",
    "# Affichage de l'image\n",
    "plt.figure(figsize=(10, 5))\n",
    "\n",
    "plt.subplot(1, 2, 1)\n",
    "plt.imshow(image, cmap='gray')\n",
    "plt.title('Image de région pulmonaire')\n",
    "plt.axis('off')\n",
    "\n",
    "plt.subplot(1, 2, 2)\n",
    "plt.imshow(mask, cmap='gray')\n",
    "plt.title('Masque de nodule')\n",
    "plt.axis('off')\n",
    "\n",
    "plt.show()\n"
   ]
  },
  {
   "cell_type": "markdown",
   "id": "b2f7c85a",
   "metadata": {
    "papermill": {
     "duration": 0.019526,
     "end_time": "2024-03-10T12:55:49.323018",
     "exception": false,
     "start_time": "2024-03-10T12:55:49.303492",
     "status": "completed"
    },
    "tags": []
   },
   "source": [
    "\n",
    "This script loads and displays a specified number of images and masks.\n",
    "\n",
    "- Visualizing these images helps you understand how nodules are represented in the data and how the masks identify these nodules.\n",
    "- It is an essential step to check the quality of your preprocessing and to understand the data on which our model will be trained."
   ]
  },
  {
   "cell_type": "markdown",
   "id": "966135bf",
   "metadata": {
    "papermill": {
     "duration": 0.019521,
     "end_time": "2024-03-10T12:55:49.362287",
     "exception": false,
     "start_time": "2024-03-10T12:55:49.342766",
     "status": "completed"
    },
    "tags": []
   },
   "source": [
    "=> Lung segmentation (extraction of ROIs) and nodule masks are two key steps to isolate relevant areas for analysis and reduce noise and distractions in the images, allowing the model to focus only on the important parts."
   ]
  },
  {
   "cell_type": "code",
   "execution_count": null,
   "id": "eb527626",
   "metadata": {
    "execution": {
     "iopub.execute_input": "2024-03-10T12:55:49.403162Z",
     "iopub.status.busy": "2024-03-10T12:55:49.402617Z",
     "iopub.status.idle": "2024-03-10T12:55:50.477929Z",
     "shell.execute_reply": "2024-03-10T12:55:50.476894Z"
    },
    "papermill": {
     "duration": 1.103148,
     "end_time": "2024-03-10T12:55:50.485111",
     "exception": false,
     "start_time": "2024-03-10T12:55:49.381963",
     "status": "completed"
    },
    "tags": []
   },
   "outputs": [],
   "source": [
    "import numpy as np\n",
    "import matplotlib.pyplot as plt\n",
    "from glob import glob\n",
    "\n",
    "# Paths to the directories containing lung-extracted images and nodule masks\n",
    "lungs_roi_dir = \"C:/Users/huixi/OneDrive - Durham University/Final Project/Main_Code_Paper/0-Code_Data/Data/imgs/\"\n",
    "nodule_mask_dir = \"C:/Users/huixi/OneDrive - Durham University/Final Project/Main_Code_Paper/0-Code_Data/Data/masks/\"\n",
    "\n",
    "# Obtention des chemins de fichiers\n",
    "lungs_images_paths = glob(lungs_roi_dir + \"*.npy\")\n",
    "nodule_masks_paths = glob(nodule_mask_dir + \"*.npy\")\n",
    "\n",
    "# Get file paths\n",
    "lungs_images_paths.sort()\n",
    "nodule_masks_paths.sort()\n",
    "\n",
    "# Ensure paths are sorted to match images with their masks\n",
    "n_images_to_show = 5  # ou len(lungs_images_paths) pour afficher toutes les images\n",
    "\n",
    "plt.figure(figsize=(10, 5 * n_images_to_show))\n",
    "\n",
    "for i in range(min(n_images_to_show, len(lungs_images_paths))):\n",
    "    # Define how many images you want to visualize\n",
    "    image = np.load(lungs_images_paths[i])\n",
    "    mask = np.load(nodule_masks_paths[i])\n",
    "    \n",
    "    plt.subplot(n_images_to_show, 2, 2*i+1)\n",
    "    plt.imshow(image, cmap='gray')\n",
    "    plt.title(f'Image {i+1}')\n",
    "    plt.axis('off')\n",
    "    \n",
    "    plt.subplot(n_images_to_show, 2, 2*i+2)\n",
    "    plt.imshow(mask, cmap='gray')\n",
    "    plt.title(f'Mask {i+1}')\n",
    "    plt.axis('off')\n",
    "\n",
    "plt.tight_layout()\n",
    "plt.show()\n"
   ]
  },
  {
   "cell_type": "markdown",
   "id": "c4fd6ee0",
   "metadata": {
    "papermill": {
     "duration": 0.024251,
     "end_time": "2024-03-10T12:55:50.535351",
     "exception": false,
     "start_time": "2024-03-10T12:55:50.511100",
     "status": "completed"
    },
    "tags": []
   },
   "source": [
    "- Visualization of these images helps you understand how nodules are represented in the data and how the masks identify these nodules."
   ]
  },
  {
   "cell_type": "markdown",
   "id": "5daeb5dc",
   "metadata": {
    "papermill": {
     "duration": 0.024133,
     "end_time": "2024-03-10T12:55:50.583857",
     "exception": false,
     "start_time": "2024-03-10T12:55:50.559724",
     "status": "completed"
    },
    "tags": []
   },
   "source": [
    "### Step 2: Preparation of X and y\n",
    "\n",
    "- X: The loaded images (lungs_roi) serve as input data for our model.\n",
    "- y: The nodule masks, after processing, act as labels indicating the presence or absence of nodules.\n",
    "- Normalization: The images are normalized to have values between 0 and 1, which is a standard practice to enhance the training of deep learning models.\n",
    "- Creation of y labels: We have defined y in a binary manner, where 1 indicates the presence of a nodule, and 0 indicates its absence. The logic behind this creation depends on the presence of non-zero pixels in the image, signifying the presence of nodules."
   ]
  },
  {
   "cell_type": "code",
   "execution_count": null,
   "id": "61ee6fc4",
   "metadata": {
    "execution": {
     "iopub.execute_input": "2024-03-10T12:55:50.634332Z",
     "iopub.status.busy": "2024-03-10T12:55:50.633729Z",
     "iopub.status.idle": "2024-03-10T12:55:51.073368Z",
     "shell.execute_reply": "2024-03-10T12:55:51.072492Z"
    },
    "papermill": {
     "duration": 0.467768,
     "end_time": "2024-03-10T12:55:51.075977",
     "exception": false,
     "start_time": "2024-03-10T12:55:50.608209",
     "status": "completed"
    },
    "tags": []
   },
   "outputs": [],
   "source": [
    "import numpy as np\n",
    "from glob import glob\n",
    "\n",
    "# Paths to the directories containing lung-extracted images and nodule masks\n",
    "lungs_roi_dir = \"C:/Users/huixi/OneDrive - Durham University/Final Project/Main_Code_Paper/0-Code_Data/Data/imgs/\"\n",
    "nodule_mask_dir = \"C:/Users/huixi/OneDrive - Durham University/Final Project/Main_Code_Paper/0-Code_Data/Data/masks/\"\n",
    "\n",
    "# Load images (X) and masks (y)\n",
    "lungs_images_paths = glob(lungs_roi_dir + \"*.npy\")\n",
    "nodule_masks_paths = glob(nodule_mask_dir + \"*.npy\")\n",
    "\n",
    "# Ensure paths are sorted so that each image matches its mask\n",
    "lungs_images_paths.sort()\n",
    "nodule_masks_paths.sort()\n",
    "\n",
    "X = np.array([np.load(path) for path in lungs_images_paths])\n",
    "y = np.array([np.load(path) for path in nodule_masks_paths])\n",
    "\n",
    "# Normalize the images\n",
    "X = X / 255.0\n",
    "\n",
    "# For labels, decide on the logic based on the presence or absence of a nodule:\n",
    "# Here, a simplified example where y is binary: 1 if a nodule is present, 0 otherwise.\n",
    "y = np.array([1 if np.any(mask) else 0 for mask in y])"
   ]
  },
  {
   "cell_type": "markdown",
   "id": "ba31fb9f",
   "metadata": {
    "papermill": {
     "duration": 0.024051,
     "end_time": "2024-03-10T12:55:51.124858",
     "exception": false,
     "start_time": "2024-03-10T12:55:51.100807",
     "status": "completed"
    },
    "tags": []
   },
   "source": [
    "### Step 3: Splitting into training, validation, and test sets\n",
    "\n"
   ]
  },
  {
   "cell_type": "code",
   "execution_count": null,
   "id": "854f2158",
   "metadata": {
    "execution": {
     "iopub.execute_input": "2024-03-10T12:55:51.176386Z",
     "iopub.status.busy": "2024-03-10T12:55:51.175745Z",
     "iopub.status.idle": "2024-03-10T12:55:51.422551Z",
     "shell.execute_reply": "2024-03-10T12:55:51.421448Z"
    },
    "papermill": {
     "duration": 0.274822,
     "end_time": "2024-03-10T12:55:51.425308",
     "exception": false,
     "start_time": "2024-03-10T12:55:51.150486",
     "status": "completed"
    },
    "tags": []
   },
   "outputs": [],
   "source": [
    "from sklearn.model_selection import train_test_split\n",
    "\n",
    "X_train, X_test, y_train, y_test = train_test_split(X, y, test_size=0.2, random_state=42)\n",
    "X_train, X_val, y_train, y_val = train_test_split(X_train, y_train, test_size=0.25, random_state=42)  # 0.25 x 0.8 = 0.2\n"
   ]
  },
  {
   "cell_type": "code",
   "execution_count": null,
   "id": "d18cd202",
   "metadata": {
    "execution": {
     "iopub.execute_input": "2024-03-10T12:55:51.475843Z",
     "iopub.status.busy": "2024-03-10T12:55:51.475430Z",
     "iopub.status.idle": "2024-03-10T12:55:51.482956Z",
     "shell.execute_reply": "2024-03-10T12:55:51.481897Z"
    },
    "papermill": {
     "duration": 0.034836,
     "end_time": "2024-03-10T12:55:51.485076",
     "exception": false,
     "start_time": "2024-03-10T12:55:51.450240",
     "status": "completed"
    },
    "tags": []
   },
   "outputs": [],
   "source": [
    "import os\n",
    "import numpy as np\n",
    "\n",
    "# For images\n",
    "image_files = os.listdir('C:/Users/huixi/OneDrive - Durham University/Final Project/Main_Code_Paper/0-Code_Data/Data/imgs/')\n",
    "print(\"Number of images:\", len(image_files))\n",
    "\n",
    "# For masks\n",
    "mask_files = os.listdir('C:/Users/huixi/OneDrive - Durham University/Final Project/Main_Code_Paper/0-Code_Data/Data/masks/')\n",
    "print(\"Number of masks:\", len(mask_files))\n",
    "\n",
    "# Check that each image has its corresponding mask\n",
    "assert len(image_files) == len(mask_files), \"The number of images and masks do not match.\"\n"
   ]
  },
  {
   "cell_type": "markdown",
   "id": "df1ffef5",
   "metadata": {
    "papermill": {
     "duration": 0.024145,
     "end_time": "2024-03-10T12:55:51.534845",
     "exception": false,
     "start_time": "2024-03-10T12:55:51.510700",
     "status": "completed"
    },
    "tags": []
   },
   "source": [
    "# Augmentation"
   ]
  },
  {
   "cell_type": "code",
   "execution_count": null,
   "id": "a3f9717d",
   "metadata": {
    "execution": {
     "iopub.execute_input": "2024-03-10T12:55:51.584780Z",
     "iopub.status.busy": "2024-03-10T12:55:51.583962Z",
     "iopub.status.idle": "2024-03-10T12:55:51.594766Z",
     "shell.execute_reply": "2024-03-10T12:55:51.593856Z"
    },
    "papermill": {
     "duration": 0.038699,
     "end_time": "2024-03-10T12:55:51.597690",
     "exception": false,
     "start_time": "2024-03-10T12:55:51.558991",
     "status": "completed"
    },
    "tags": []
   },
   "outputs": [],
   "source": [
    "import os\n",
    "\n",
    "# Paths to directories where your image and mask files are located\n",
    "images_dir = 'C:/Users/huixi/OneDrive - Durham University/Final Project/Main_Code_Paper/0-Code_Data/Data/imgs/'\n",
    "masks_dir = 'C:/Users/huixi/OneDrive - Durham University/Final Project/Main_Code_Paper/0-Code_Data/Data/masks/'\n",
    "\n",
    "# List all files in the directories\n",
    "image_files = os.listdir(images_dir)\n",
    "mask_files = os.listdir(masks_dir)\n",
    "\n",
    "# Ensure that for each image, there is a corresponding mask\n",
    "for image_file in image_files:\n",
    "    # Remove the extension to get the base identifier\n",
    "    base_id = image_file.split('.')[0]\n",
    "    # Replace 'lungs' with 'mask' in the base identifier to match the naming logic of mask files\n",
    "    corresponding_mask = base_id.replace('lungs', 'masks') + '.npy'\n",
    "    if corresponding_mask not in mask_files:\n",
    "        print(f\"Corresponding mask not found for the image: {image_file}\")\n"
   ]
  }
 ],
 "metadata": {
  "accelerator": "GPU",
  "colab": {
   "authorship_tag": "ABX9TyNEXTk3MYKu3WZnhnkWwKfW",
   "gpuType": "T4",
   "provenance": []
  },
  "kaggle": {
   "accelerator": "gpu",
   "dataSources": [
    {
     "datasetId": 839140,
     "sourceId": 1432479,
     "sourceType": "datasetVersion"
    },
    {
     "datasetId": 982666,
     "sourceId": 1659908,
     "sourceType": "datasetVersion"
    },
    {
     "datasetId": 1209563,
     "sourceId": 2020950,
     "sourceType": "datasetVersion"
    },
    {
     "datasetId": 3230595,
     "sourceId": 5618375,
     "sourceType": "datasetVersion"
    }
   ],
   "dockerImageVersionId": 30408,
   "isGpuEnabled": true,
   "isInternetEnabled": true,
   "language": "python",
   "sourceType": "notebook"
  },
  "kernelspec": {
   "display_name": "Python 3",
   "language": "python",
   "name": "python3"
  },
  "language_info": {
   "codemirror_mode": {
    "name": "ipython",
    "version": 3
   },
   "file_extension": ".py",
   "mimetype": "text/x-python",
   "name": "python",
   "nbconvert_exporter": "python",
   "pygments_lexer": "ipython3",
   "version": "3.11.8"
  },
  "papermill": {
   "default_parameters": {},
   "duration": 186.009493,
   "end_time": "2024-03-10T12:56:40.291293",
   "environment_variables": {},
   "exception": null,
   "input_path": "__notebook__.ipynb",
   "output_path": "__notebook__.ipynb",
   "parameters": {},
   "start_time": "2024-03-10T12:53:34.281800",
   "version": "2.4.0"
  }
 },
 "nbformat": 4,
 "nbformat_minor": 5
}
